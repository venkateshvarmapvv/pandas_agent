{
 "cells": [
  {
   "cell_type": "markdown",
   "id": "2930f7c4",
   "metadata": {},
   "source": [
    "Step 1 : Project Setup"
   ]
  },
  {
   "cell_type": "code",
   "execution_count": 7,
   "id": "d24d4950",
   "metadata": {},
   "outputs": [],
   "source": [
    "import pandas as pd  # For data manipulation and analysis\n",
    "import logging  # For proper logging and debugging \n",
    "from typing import Dict, Any  # Type hints for better code maintainability\n",
    "import os\n",
    "from dotenv import load_dotenv # For loading environment variable files\n",
    "load_dotenv() # Load environment variables from a .env file\n",
    "\n",
    "# LangChain components\n",
    "from langchain_core.tools import tool  # For creating callable tools\n",
    "from langchain_core.runnables import Runnable  # For creating composable chains\n",
    "from langchain.chat_models import init_chat_model  # For accessing Groq's LLMs\n",
    "from langchain_core.prompts import ChatPromptTemplate  # For structured prompting\n",
    "from langchain_core.output_parsers import PydanticOutputParser  # For structured outputs\n",
    "from pydantic import BaseModel, Field  # For data validation and typing\n",
    "\n",
    "file_path = os.getenv(\"file_location\")\n",
    "if file_path is None:\n",
    "    raise ValueError(\"FILE_PATH environment variable not set. Please set it to the path of your CSV file.\")\n",
    "\n",
    "\n",
    "logging.basicConfig(\n",
    "    level=logging.INFO,\n",
    "    format='%(levelname)s - %(message)s'\n",
    ")"
   ]
  },
  {
   "cell_type": "markdown",
   "id": "bc7778f7",
   "metadata": {},
   "source": [
    "Step_2 : Data Preparation"
   ]
  },
  {
   "cell_type": "code",
   "execution_count": 8,
   "id": "12084f08",
   "metadata": {},
   "outputs": [
    {
     "name": "stderr",
     "output_type": "stream",
     "text": [
      "INFO - Successfully loaded DataFrame with 1000 rows and 17 columns\n",
      "INFO - Columns: ['Invoice ID', 'Branch', 'City', 'Customer type', 'Gender', 'Product line', 'Unit price', 'Quantity', 'Tax 5%', 'Total', 'Date', 'Time', 'Payment', 'cogs', 'gross margin percentage', 'gross income', 'Rating']\n"
     ]
    }
   ],
   "source": [
    "# Load the dataset\n",
    "try:\n",
    "    df = pd.read_csv(file_path)\n",
    "    \n",
    "    # Log basic information about the DataFrame\n",
    "    logging.info(f\"Successfully loaded DataFrame with {len(df)} rows and {len(df.columns)} columns\")\n",
    "    logging.info(f\"Columns: {df.columns.tolist()}\")\n",
    "except Exception as e:\n",
    "    logging.error(f\"Error loading data: {e}\")\n",
    "    raise"
   ]
  },
  {
   "cell_type": "markdown",
   "id": "c9576f45",
   "metadata": {},
   "source": [
    "Step_3 : Function to extract and store the schema information \n",
    "\n",
    "When working with AI and data, you need to create a bridge between what the data actually contains and what the AI understands about it. This initial exploration helps us build that bridge by identifying what context to provide to the LLM."
   ]
  },
  {
   "cell_type": "code",
   "execution_count": 9,
   "id": "0d8a1217",
   "metadata": {},
   "outputs": [],
   "source": [
    "def extract_schema_info(dataframe: pd.DataFrame) -> Dict[str, Any]:\n",
    "    \"\"\"\n",
    "    Extract schema information from DataFrame to help the LLM understand the data.\n",
    "    \n",
    "    Args:\n",
    "        dataframe: The pandas DataFrame to analyze\n",
    "        \n",
    "    Returns:\n",
    "        Dictionary containing schema information\n",
    "    \"\"\"\n",
    "    return {\n",
    "        \"columns\": dataframe.columns.tolist(),\n",
    "        \"dtypes\": {col: str(dtype) for col, dtype in zip(dataframe.columns, dataframe.dtypes)},\n",
    "        \"sample_data\": dataframe.head(3).to_dict('records'),\n",
    "        \"summary\": {\n",
    "            \"rows\": len(dataframe),\n",
    "            \"columns\": len(dataframe.columns),\n",
    "            \"numeric_columns\": dataframe.select_dtypes(include=['number']).columns.tolist(),\n",
    "            \"categorical_columns\": dataframe.select_dtypes(include=['object']).columns.tolist(),\n",
    "            \"datetime_columns\": dataframe.select_dtypes(include=['datetime']).columns.tolist()\n",
    "        }\n",
    "    }\n",
    "\n",
    "schema_info = extract_schema_info(df)"
   ]
  },
  {
   "cell_type": "code",
   "execution_count": null,
   "id": "5e924905",
   "metadata": {},
   "outputs": [],
   "source": []
  },
  {
   "cell_type": "markdown",
   "id": "4c484553",
   "metadata": {},
   "source": [
    "DataFrame Query Tool\n",
    "\n",
    "The @tool decorator marks this function as a \"tool\" that can be used by a LangChain agent.\n",
    "\n",
    "\n",
    "This means an AI model can call this function to perform specific tasks (like querying a DataFrame)."
   ]
  },
  {
   "cell_type": "code",
   "execution_count": 10,
   "id": "f89877b9",
   "metadata": {},
   "outputs": [],
   "source": [
    "@tool\n",
    "def query_dataframe(code: str) -> str:\n",
    "    \"\"\"\n",
    "Executes pandas code on the DataFrame 'df' and returns the result.\n",
    "\n",
    "Args:\n",
    "    code: A string containing pandas code to execute (e.g., df['Price'].mean())\n",
    "\n",
    "Returns:\n",
    "    String representation of the query result\n",
    "\"\"\"\n",
    "    try:\n",
    "        # Safe execution using eval instead of exec\n",
    "        # eval directly returns the value, making it better for expressions\n",
    "        result = eval(code, {\"__builtins__\": {}}, {\"df\": df, \"pd\": pd})\n",
    "        \n",
    "        # Format the output based on result type\n",
    "        if isinstance(result, pd.DataFrame):\n",
    "            if len(result) > 10:\n",
    "                return f\"DataFrame with {len(result)} rows:\\n{result.head(5).to_string()}\\n...(showing only first 5 rows)\"\n",
    "            else:\n",
    "                return result.to_string()\n",
    "        elif isinstance(result, pd.Series):\n",
    "            if len(result) > 10:\n",
    "                return f\"Series with {len(result)} elements:\\n{result.head(5).to_string()}\\n...(showing first 5 elements)\"\n",
    "            else:\n",
    "                return result.to_string()\n",
    "        else:\n",
    "            return str(result)\n",
    "    except Exception as e:\n",
    "        logging.error(f\"Error executing query: {code}, Error: {e}\")\n",
    "        return f\"Error: {e}\""
   ]
  },
  {
   "cell_type": "code",
   "execution_count": 11,
   "id": "01eaadf4",
   "metadata": {},
   "outputs": [],
   "source": [
    "def init_model():\n",
    "    \"\"\"\n",
    "    Initialize the LLM with appropriate settings and tools.\n",
    "    \n",
    "    Returns:\n",
    "        Configured LLM instance with tools bound\n",
    "    \"\"\"\n",
    "    try:\n",
    "        api_key = os.getenv(\"GROQ_API_KEY\")\n",
    "        if api_key is None:\n",
    "            raise ValueError(\"GROQ_API_KEY environment variable not set. Please set it to your Groq API key.\")\n",
    "        #logging.info(\"Initializing LLM with Groq API key...\")\n",
    "        model = init_chat_model(\n",
    "            model=\"qwen-qwq-32b\",\n",
    "            temperature=0.5,\n",
    "            max_tokens=2000,\n",
    "            api_key=api_key,\n",
    "            model_provider=\"groq\")\n",
    "\n",
    "\n",
    "        # Bind the DataFrame query tool to the model\n",
    "        model_with_tools = model.bind_tools([query_dataframe])\n",
    "        \n",
    "        #logging.info(\"LLM initialized successfully with tools\")\n",
    "        \n",
    "        return model_with_tools\n",
    "    except Exception as e:\n",
    "        logging.error(f\"Failed to initialize LLM: {e}\")\n",
    "        raise"
   ]
  },
  {
   "cell_type": "markdown",
   "id": "b8657547",
   "metadata": {},
   "source": [
    "Creating Effective Prompts"
   ]
  },
  {
   "cell_type": "markdown",
   "id": "f2b2efb1",
   "metadata": {},
   "source": [
    "“Prompt engineering” is overhyped. It’s not just good English and using AI tools—it requires actual understanding and basic coding. Without that, you’re just buying overpriced courses to ask ChatGPT how to do the job."
   ]
  },
  {
   "cell_type": "code",
   "execution_count": 12,
   "id": "99693545",
   "metadata": {},
   "outputs": [],
   "source": [
    "def create_prompt_templates():\n",
    "    \"\"\"Create the prompt templates for the agent.\"\"\"\n",
    "    \n",
    "    # Query generation prompt - converts natural language to pandas code\n",
    "    query_prompt = ChatPromptTemplate.from_template(\"\"\"\n",
    "    You are a pandas expert who converts questions about data into executable pandas code.\n",
    "\n",
    "    DataFrame Information:\n",
    "    - Columns: {columns}\n",
    "    - Data types: {dtypes}\n",
    "    - Sample data: {sample_data}\n",
    "    \n",
    "    Important instructions:\n",
    "    1. ONLY write pandas code that queries the DataFrame named 'df'\n",
    "    2. Your code should be a single expression that can be executed with eval()\n",
    "    3. Do NOT include assignments, print statements, or multiple lines of code\n",
    "    4. For aggregations, handle NaN values appropriately\n",
    "    5. Make your code efficient and accurate\n",
    "    \n",
    "    User question: {question}\n",
    "    \n",
    "    Respond by using the query_dataframe tool with your pandas code as the argument.\n",
    "    \"\"\")\n",
    "    \n",
    "    return query_prompt"
   ]
  },
  {
   "cell_type": "code",
   "execution_count": 13,
   "id": "6fd55f35",
   "metadata": {},
   "outputs": [],
   "source": [
    "def run_agent(question: str):\n",
    "    \"\"\"\n",
    "    Run the complete query agent pipeline.\n",
    "    \n",
    "    Args:\n",
    "        question: Natural language question about the DataFrame\n",
    "        \n",
    "    Returns:\n",
    "        Dictionary containing question, code, and result.\n",
    "    \"\"\"\n",
    "    logging.info(f\"Processing question: {question}\")\n",
    "    \n",
    "    try:\n",
    "        model = init_model()\n",
    "        query_prompt = create_prompt_templates()\n",
    "        \n",
    "        # Step 2: Format query prompt with schema information\n",
    "        query_input = {\n",
    "            \"question\": question,\n",
    "            \"columns\": schema_info[\"columns\"],\n",
    "            \"dtypes\": schema_info[\"dtypes\"],\n",
    "            \"sample_data\": schema_info[\"sample_data\"]\n",
    "        }\n",
    "        \n",
    "        logging.info(\"Generating pandas code from question...\")\n",
    "        query_message = query_prompt.format_messages(**query_input)\n",
    "        response = model.invoke(query_message)\n",
    "        \n",
    "        # Step 3: Extract pandas code from tool calls\n",
    "        pandas_code = None\n",
    "        if hasattr(response, 'tool_calls') and response.tool_calls:\n",
    "            tool_call = response.tool_calls[0]\n",
    "            pandas_code = tool_call[\"args\"][\"code\"]\n",
    "            \n",
    "            \n",
    "            result = query_dataframe(pandas_code)\n",
    "        \n",
    "            # Return the complete result\n",
    "            return {\n",
    "                \"question\": question,\n",
    "                \"pandas_code\": pandas_code,\n",
    "                \"result\": result,\n",
    "            }\n",
    "        else:\n",
    "            logging.warning(\"No tool call made in response\")\n",
    "            return {\n",
    "                \"question\": question,\n",
    "                \"error\": \"Failed to generate executable pandas code\",\n",
    "                \"message\": response.content\n",
    "            }\n",
    "    except Exception as e:\n",
    "        logging.error(f\"Error in agent execution: {e}\")\n",
    "        return {\"question\": question, \"error\": str(e)}"
   ]
  },
  {
   "cell_type": "code",
   "execution_count": 14,
   "id": "65a654f1",
   "metadata": {},
   "outputs": [],
   "source": [
    "def main():\n",
    "    \"\"\"Main CLI entry point.\"\"\"\n",
    "\n",
    "    print(\"DataFrame Query Agent\")\n",
    "\n",
    "    schema_info = extract_schema_info(df)\n",
    "\n",
    "    print(f\"Loaded DataFrame with {schema_info['summary']['rows']} rows and {schema_info['summary']['columns']} columns\")\n",
    "\n",
    "    print(\"Type 'exit' to quit\\n\")\n",
    "\n",
    "    while True:\n",
    "        question = input(\"\\n Ask questions about your data: \")\n",
    "\n",
    "        if question.lower() in ('exit', 'quit'):\n",
    "            print(\"Goodbye!\")\n",
    "            break\n",
    "\n",
    "        result = run_agent(question)\n",
    "\n",
    "        if \"error\" in result:\n",
    "            print(f\"\\n Error: {result['error']}\")\n",
    "            if \"message\" in result:\n",
    "                print(f\"Additional info: {result['message']}\")\n",
    "        else:\n",
    "            print(f\"\\n Generated pandas code:\")\n",
    "            print(f\"```python\\n{result['pandas_code']}\\n```\")\n",
    "\n",
    "            print(f\"\\n Result:\")\n",
    "            print(result['result'])\n"
   ]
  },
  {
   "cell_type": "code",
   "execution_count": 15,
   "id": "71d0f407",
   "metadata": {},
   "outputs": [
    {
     "name": "stdout",
     "output_type": "stream",
     "text": [
      "DataFrame Query Agent\n",
      "Loaded DataFrame with 1000 rows and 17 columns\n",
      "Type 'exit' to quit\n",
      "\n"
     ]
    },
    {
     "name": "stderr",
     "output_type": "stream",
     "text": [
      "INFO - Processing question: which branch has maximum cash payment and which product line is in demand in each city?\n",
      "INFO - Generating pandas code from question...\n",
      "INFO - HTTP Request: POST https://api.groq.com/openai/v1/chat/completions \"HTTP/1.1 200 OK\"\n",
      "C:\\Users\\nethi\\AppData\\Local\\Temp\\ipykernel_32456\\3654945997.py:36: LangChainDeprecationWarning: The method `BaseTool.__call__` was deprecated in langchain-core 0.1.47 and will be removed in 1.0. Use :meth:`~invoke` instead.\n",
      "  result = query_dataframe(pandas_code)\n"
     ]
    },
    {
     "name": "stdout",
     "output_type": "stream",
     "text": [
      "\n",
      " Generated pandas code:\n",
      "```python\n",
      "(df[df['Payment'] == 'Cash'].groupby('Branch')['Total'].sum().idxmax(), df.groupby('City').apply(lambda x: x.groupby('Product line')['Quantity'].sum().idxmax()))\n",
      "```\n",
      "\n",
      " Result:\n",
      "('C', City\n",
      "Mandalay      Sports and travel\n",
      "Naypyitaw    Food and beverages\n",
      "Yangon       Home and lifestyle\n",
      "dtype: object)\n",
      "Goodbye!\n"
     ]
    }
   ],
   "source": [
    "if __name__ == \"__main__\":\n",
    "    main()\n"
   ]
  }
 ],
 "metadata": {
  "kernelspec": {
   "display_name": "Python 3",
   "language": "python",
   "name": "python3"
  },
  "language_info": {
   "codemirror_mode": {
    "name": "ipython",
    "version": 3
   },
   "file_extension": ".py",
   "mimetype": "text/x-python",
   "name": "python",
   "nbconvert_exporter": "python",
   "pygments_lexer": "ipython3",
   "version": "3.12.0"
  }
 },
 "nbformat": 4,
 "nbformat_minor": 5
}
